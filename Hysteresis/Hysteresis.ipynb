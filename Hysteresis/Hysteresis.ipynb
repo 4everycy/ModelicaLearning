{
 "cells": [
  {
   "cell_type": "code",
   "execution_count": 18,
   "metadata": {
    "ExecuteTime": {
     "end_time": "2019-12-10T12:10:58.113000Z",
     "start_time": "2019-12-10T12:10:58.102000Z"
    }
   },
   "outputs": [],
   "source": [
    "from pymodelica import compile_fmu\n",
    "from pyfmi import load_fmu\n",
    "import matplotlib.pyplot as plt\n",
    "import matplotlib as mpl\n",
    "from pyfmi.common.io import ResultDymolaBinary"
   ]
  },
  {
   "cell_type": "code",
   "execution_count": 17,
   "metadata": {
    "ExecuteTime": {
     "end_time": "2019-12-10T12:10:37.434000Z",
     "start_time": "2019-12-10T12:10:23.337000Z"
    },
    "scrolled": true
   },
   "outputs": [],
   "source": [
    "res = ResultDymolaBinary('ChatteringControl_result.mat')"
   ]
  },
  {
   "cell_type": "code",
   "execution_count": 13,
   "metadata": {
    "ExecuteTime": {
     "end_time": "2019-12-10T11:47:09.760000Z",
     "start_time": "2019-12-10T11:46:13.034000Z"
    },
    "scrolled": true
   },
   "outputs": [
    {
     "data": {
      "image/png": "[encoded data removed]",
      "text/plain": [
       "<matplotlib.figure.Figure at 0x830db550>"
      ]
     },
     "metadata": {},
     "output_type": "display_data"
    }
   ],
   "source": [
    "heat = res.get_variable_data('heat')\n",
    "# T = res.get_variable_data('T')\n",
    "\n",
    "mpl.rcParams['agg.path.chunksize'] = 10000\n",
    "plt.figure(1)\n",
    "# plt.plot(T.t, T.x, label='T')\n",
    "plt.plot(heat.t, heat.x, label='heat')\n",
    "plt.legend()\n",
    "plt.show()"
   ]
  },
  {
   "cell_type": "code",
   "execution_count": 19,
   "metadata": {
    "ExecuteTime": {
     "end_time": "2019-12-10T12:12:30.735000Z",
     "start_time": "2019-12-10T12:12:22.929000Z"
    }
   },
   "outputs": [
    {
     "name": "stdout",
     "output_type": "stream",
     "text": [
      "Final Run Statistics: --- \n",
      "\n",
      " Number of steps                                 : 27\n",
      " Number of function evaluations                  : 71\n",
      " Number of Jacobian evaluations                  : 8\n",
      " Number of function eval. due to Jacobian eval.  : 8\n",
      " Number of error test failures                   : 0\n",
      " Number of nonlinear iterations                  : 39\n",
      " Number of nonlinear convergence failures        : 0\n",
      " Number of state function evaluations            : 77\n",
      " Number of state events                          : 7\n",
      "\n",
      "Solver options:\n",
      "\n",
      " Solver                   : CVode\n",
      " Linear multistep method  : BDF\n",
      " Nonlinear solver         : Newton\n",
      " Linear solver type       : DENSE\n",
      " Maximal order            : 5\n",
      " Tolerances (absolute)    : 1e-06\n",
      " Tolerances (relative)    : 0.0001\n",
      "\n",
      "Simulation interval    : 0.0 - 1.0 seconds.\n",
      "Elapsed simulation time: 0.0210582999998 seconds.\n"
     ]
    }
   ],
   "source": [
    "fmu1 = compile_fmu('HysteresisControl', 'HysteresisControl.mo')\n",
    "hc = load_fmu(fmu1)\n",
    "res2 = hc.simulate()"
   ]
  },
  {
   "cell_type": "code",
   "execution_count": 20,
   "metadata": {
    "ExecuteTime": {
     "end_time": "2019-12-10T12:14:17.410000Z",
     "start_time": "2019-12-10T12:14:16.917000Z"
    }
   },
   "outputs": [
    {
     "data": {
      "image/png": "[encoded data removed]",
      "text/plain": [
       "<matplotlib.figure.Figure at 0x830a8400>"
      ]
     },
     "metadata": {},
     "output_type": "display_data"
    },
    {
     "data": {
      "image/png": "[encoded data removed]",
      "text/plain": [
       "<matplotlib.figure.Figure at 0x8f7a4080>"
      ]
     },
     "metadata": {},
     "output_type": "display_data"
    }
   ],
   "source": [
    "t = res2['time']\n",
    "T = res2['T']\n",
    "heat = res2['heat']\n",
    "\n",
    "plt.figure(1)\n",
    "plt.plot(t, T, label='T')\n",
    "plt.legend()\n",
    "plt.figure(2)\n",
    "plt.plot(t, heat, label='heat')\n",
    "plt.legend()\n",
    "plt.show()"
   ]
  }
 ],
 "metadata": {
  "kernelspec": {
   "display_name": "Python 2",
   "language": "python",
   "name": "python2"
  },
  "language_info": {
   "codemirror_mode": {
    "name": "ipython",
    "version": 2
   },
   "file_extension": ".py",
   "mimetype": "text/x-python",
   "name": "python",
   "nbconvert_exporter": "python",
   "pygments_lexer": "ipython2",
   "version": "2.7.13"
  },
  "varInspector": {
   "cols": {
    "lenName": 16,
    "lenType": 16,
    "lenVar": 40
   },
   "kernels_config": {
    "python": {
     "delete_cmd_postfix": "",
     "delete_cmd_prefix": "del ",
     "library": "var_list.py",
     "varRefreshCmd": "print(var_dic_list())"
    },
    "r": {
     "delete_cmd_postfix": ") ",
     "delete_cmd_prefix": "rm(",
     "library": "var_list.r",
     "varRefreshCmd": "cat(var_dic_list()) "
    }
   },
   "types_to_exclude": [
    "module",
    "function",
    "builtin_function_or_method",
    "instance",
    "_Feature"
   ],
   "window_display": false
  }
 },
 "nbformat": 4,
 "nbformat_minor": 2
}
