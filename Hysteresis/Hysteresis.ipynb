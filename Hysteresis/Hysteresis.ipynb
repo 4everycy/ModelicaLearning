{
 "cells": [
  {
   "cell_type": "code",
   "execution_count": 10,
   "metadata": {
    "ExecuteTime": {
     "end_time": "2019-12-10T11:45:50.606000Z",
     "start_time": "2019-12-10T11:45:50.580000Z"
    }
   },
   "outputs": [],
   "source": [
    "from pymodelica import compile_fmu\n",
    "from pyfmi import load_fmu\n",
    "import matplotlib.pyplot as plt\n",
    "import matplotlib as mpl\n",
    "from pyfmi.common.io import ResultDymolaBinary"
   ]
  },
  {
   "cell_type": "code",
   "execution_count": 12,
   "metadata": {
    "ExecuteTime": {
     "end_time": "2019-12-10T11:46:12.350000Z",
     "start_time": "2019-12-10T11:46:12.019000Z"
    },
    "scrolled": true
   },
   "outputs": [],
   "source": [
    "res = ResultDymolaBinary('ChatteringControl_result.mat')"
   ]
  },
  {
   "cell_type": "code",
   "execution_count": 13,
   "metadata": {
    "ExecuteTime": {
     "end_time": "2019-12-10T11:47:09.760000Z",
     "start_time": "2019-12-10T11:46:13.034000Z"
    },
    "scrolled": true
   },
   "outputs": [
    {
     "data": {
      "image/png": "[encoded data removed]",
      "text/plain": [
       "<matplotlib.figure.Figure at 0x830db550>"
      ]
     },
     "metadata": {},
     "output_type": "display_data"
    }
   ],
   "source": [
    "heat = res.get_variable_data('heat')\n",
    "# T = res.get_variable_data('T')\n",
    "\n",
    "mpl.rcParams['agg.path.chunksize'] = 10000\n",
    "plt.figure(1)\n",
    "# plt.plot(T.t, T.x, label='T')\n",
    "plt.plot(heat.t, heat.x, label='heat')\n",
    "plt.legend()\n",
    "plt.show()"
   ]
  }
 ],
 "metadata": {
  "kernelspec": {
   "display_name": "Python 2",
   "language": "python",
   "name": "python2"
  },
  "language_info": {
   "codemirror_mode": {
    "name": "ipython",
    "version": 2
   },
   "file_extension": ".py",
   "mimetype": "text/x-python",
   "name": "python",
   "nbconvert_exporter": "python",
   "pygments_lexer": "ipython2",
   "version": "2.7.13"
  },
  "varInspector": {
   "cols": {
    "lenName": 16,
    "lenType": 16,
    "lenVar": 40
   },
   "kernels_config": {
    "python": {
     "delete_cmd_postfix": "",
     "delete_cmd_prefix": "del ",
     "library": "var_list.py",
     "varRefreshCmd": "print(var_dic_list())"
    },
    "r": {
     "delete_cmd_postfix": ") ",
     "delete_cmd_prefix": "rm(",
     "library": "var_list.r",
     "varRefreshCmd": "cat(var_dic_list()) "
    }
   },
   "types_to_exclude": [
    "module",
    "function",
    "builtin_function_or_method",
    "instance",
    "_Feature"
   ],
   "window_display": false
  }
 },
 "nbformat": 4,
 "nbformat_minor": 2
}
