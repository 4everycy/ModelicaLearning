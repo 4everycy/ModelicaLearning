{
 "cells": [
  {
   "cell_type": "code",
   "execution_count": 9,
   "metadata": {
    "ExecuteTime": {
     "end_time": "2019-12-10T06:08:10.868000Z",
     "start_time": "2019-12-10T06:08:10.861000Z"
    }
   },
   "outputs": [],
   "source": [
    "from pymodelica import compile_fmu\n",
    "from pyfmi import load_fmu\n",
    "import matplotlib.pyplot as plt\n",
    "import DyMat\n",
    "import numpy as np"
   ]
  },
  {
   "cell_type": "code",
   "execution_count": 10,
   "metadata": {
    "ExecuteTime": {
     "end_time": "2019-12-10T06:08:11.869000Z",
     "start_time": "2019-12-10T06:08:11.780000Z"
    },
    "scrolled": true
   },
   "outputs": [
    {
     "name": "stdout",
     "output_type": "stream",
     "text": [
      "[u'_use_Brent_in_1d', u'_nle_solver_use_last_integrator_step', u'_block_solver_profiling', u'_nle_active_bounds_mode', u'_rescale_each_step', u'_iteration_variable_scaling', u'_events_tol_factor', u'_block_solver_experimental_mode', u'_nle_solver_default_tol', u'_rescale_after_singular_jac', u'_use_newton_for_brent', u'_cs_solver', u'_block_jacobian_check_tol', u'_events_default_tol', u'_block_jacobian_check', u'der(T)', u'Q_capacity', u'_nle_jacobian_update_mode', u'_nle_solver_max_iter', u'T_bar', u'T_amb', u'_nle_solver_step_limit_factor', u'C', u'_nle_solver_use_nominals_as_fallback', u'_nle_solver_min_residual_scaling_factor', u'Q', u'_nle_solver_exit_criterion', u'_time_events_default_tol', u'_residual_equation_scaling', u'_nle_jacobian_finite_difference_delta', u'T', u'_log_level', u'_nle_brent_ignore_error', u'_cs_step_size', u'_nle_jacobian_calculation_mode', u'_nle_solver_regularization_tolerance', u'_nle_solver_max_residual_scaling_factor', u'h', u'_nle_solver_min_tol', u'heat', u'_use_jacobian_equilibration', u'_nle_solver_check_jac_cond', u'_runtime_log_to_file', u'_enforce_bounds', u'_nle_solver_tol_factor', u'_cs_rel_tol', u'_cs_experimental_mode', u'_nle_solver_max_iter_no_jacobian']\n"
     ]
    }
   ],
   "source": [
    "res1 = DyMat.DyMatFile('ChatteringControl_result.mat')\n",
    "print(res1.names())"
   ]
  },
  {
   "cell_type": "code",
   "execution_count": 12,
   "metadata": {
    "ExecuteTime": {
     "end_time": "2019-12-10T06:11:22.993000Z",
     "start_time": "2019-12-10T06:11:22.599000Z"
    },
    "scrolled": true
   },
   "outputs": [
    {
     "data": {
      "text/plain": [
       "[<matplotlib.lines.Line2D at 0x1f1483c8>]"
      ]
     },
     "execution_count": 12,
     "metadata": {},
     "output_type": "execute_result"
    },
    {
     "data": {
      "image/png": "[encoded data removed]",
      "text/plain": [
       "<matplotlib.figure.Figure at 0x1f01ac50>"
      ]
     },
     "metadata": {},
     "output_type": "display_data"
    }
   ],
   "source": [
    "T = res1['T']\n",
    "heat = res1['heat']\n",
    "plt.figure(1)\n",
    "plt.plot(T, label='T')\n",
    "# plt.plot(t, heat, label='heat')\n",
    "# plt.legend()\n",
    "# plt.show()"
   ]
  },
  {
   "cell_type": "code",
   "execution_count": null,
   "metadata": {},
   "outputs": [],
   "source": []
  }
 ],
 "metadata": {
  "kernelspec": {
   "display_name": "Python 2",
   "language": "python",
   "name": "python2"
  },
  "language_info": {
   "codemirror_mode": {
    "name": "ipython",
    "version": 2
   },
   "file_extension": ".py",
   "mimetype": "text/x-python",
   "name": "python",
   "nbconvert_exporter": "python",
   "pygments_lexer": "ipython2",
   "version": "2.7.13"
  },
  "varInspector": {
   "cols": {
    "lenName": 16,
    "lenType": 16,
    "lenVar": 40
   },
   "kernels_config": {
    "python": {
     "delete_cmd_postfix": "",
     "delete_cmd_prefix": "del ",
     "library": "var_list.py",
     "varRefreshCmd": "print(var_dic_list())"
    },
    "r": {
     "delete_cmd_postfix": ") ",
     "delete_cmd_prefix": "rm(",
     "library": "var_list.r",
     "varRefreshCmd": "cat(var_dic_list()) "
    }
   },
   "types_to_exclude": [
    "module",
    "function",
    "builtin_function_or_method",
    "instance",
    "_Feature"
   ],
   "window_display": false
  }
 },
 "nbformat": 4,
 "nbformat_minor": 2
}
