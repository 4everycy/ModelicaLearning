{
 "cells": [
  {
   "cell_type": "code",
   "execution_count": 1,
   "metadata": {
    "ExecuteTime": {
     "end_time": "2019-12-06T11:38:51.021000Z",
     "start_time": "2019-12-06T11:38:37.161000Z"
    },
    "cell_style": "center"
   },
   "outputs": [],
   "source": [
    "from pymodelica import compile_fmu\n",
    "from pyfmi import load_fmu\n",
    "import matplotlib.pyplot as plt\n"
   ]
  },
  {
   "cell_type": "code",
   "execution_count": 6,
   "metadata": {
    "ExecuteTime": {
     "end_time": "2019-12-06T11:54:29.503000Z",
     "start_time": "2019-12-06T11:54:17.476000Z"
    }
   },
   "outputs": [
    {
     "name": "stdout",
     "output_type": "stream",
     "text": [
      "Final Run Statistics: --- \n",
      "\n",
      " Number of steps                                 : 19\n",
      " Number of function evaluations                  : 30\n",
      " Number of Jacobian evaluations                  : 4\n",
      " Number of function eval. due to Jacobian eval.  : 4\n",
      " Number of error test failures                   : 1\n",
      " Number of nonlinear iterations                  : 23\n",
      " Number of nonlinear convergence failures        : 3\n",
      "\n",
      "Solver options:\n",
      "\n",
      " Solver                   : CVode\n",
      " Linear multistep method  : BDF\n",
      " Nonlinear solver         : Newton\n",
      " Linear solver type       : DENSE\n",
      " Maximal order            : 5\n",
      " Tolerances (absolute)    : 1e-06\n",
      " Tolerances (relative)    : 0.0001\n",
      "\n",
      "Simulation interval    : 0.0 - 2.0 seconds.\n",
      "Elapsed simulation time: 0.00950850000004 seconds.\n"
     ]
    }
   ],
   "source": [
    "fmu1 = compile_fmu('Decay1', 'Decay1.mo')\n",
    "dc1 = load_fmu(fmu1)\n",
    "res1 = dc1.simulate(final_time=2)\n"
   ]
  },
  {
   "cell_type": "code",
   "execution_count": 9,
   "metadata": {
    "ExecuteTime": {
     "end_time": "2019-12-06T11:55:20.080000Z",
     "start_time": "2019-12-06T11:55:19.658000Z"
    }
   },
   "outputs": [
    {
     "data": {
      "image/png": "[encoded data removed]",
      "text/plain": [
       "<matplotlib.figure.Figure at 0x1d7cb780>"
      ]
     },
     "metadata": {},
     "output_type": "display_data"
    }
   ],
   "source": [
    "x = res['x']\n",
    "t = res['time']\n",
    "\n",
    "plt.figure()\n",
    "plt.plot(t, x, label='x')\n",
    "plt.title('A Decay Model with Noise')\n",
    "plt.ylabel('x')\n",
    "plt.xlabel('time(s)')\n",
    "plt.show()\n"
   ]
  },
  {
   "cell_type": "code",
   "execution_count": 10,
   "metadata": {
    "ExecuteTime": {
     "end_time": "2019-12-06T11:58:10.854000Z",
     "start_time": "2019-12-06T11:57:59.423000Z"
    }
   },
   "outputs": [
    {
     "ename": "FMUException",
     "evalue": "Failed to get the derivative values at time: 2.000021E+00.",
     "output_type": "error",
     "traceback": [
      "\u001b[1;31m---------------------------------------------------------------------------\u001b[0m",
      "\u001b[1;31mFMUException\u001b[0m                              Traceback (most recent call last)",
      "\u001b[1;32m<ipython-input-10-016aea0e9817>\u001b[0m in \u001b[0;36m<module>\u001b[1;34m()\u001b[0m\n\u001b[0;32m      1\u001b[0m \u001b[0mfmu2\u001b[0m \u001b[1;33m=\u001b[0m \u001b[0mcompile_fmu\u001b[0m\u001b[1;33m(\u001b[0m\u001b[1;34m'Decay2'\u001b[0m\u001b[1;33m,\u001b[0m \u001b[1;34m'Decay2.mo'\u001b[0m\u001b[1;33m)\u001b[0m\u001b[1;33m\u001b[0m\u001b[0m\n\u001b[0;32m      2\u001b[0m \u001b[0mdc2\u001b[0m \u001b[1;33m=\u001b[0m \u001b[0mload_fmu\u001b[0m\u001b[1;33m(\u001b[0m\u001b[0mfmu2\u001b[0m\u001b[1;33m)\u001b[0m\u001b[1;33m\u001b[0m\u001b[0m\n\u001b[1;32m----> 3\u001b[1;33m \u001b[0mres2\u001b[0m \u001b[1;33m=\u001b[0m \u001b[0mdc2\u001b[0m\u001b[1;33m.\u001b[0m\u001b[0msimulate\u001b[0m\u001b[1;33m(\u001b[0m\u001b[0mfinal_time\u001b[0m\u001b[1;33m=\u001b[0m\u001b[1;36m5\u001b[0m\u001b[1;33m)\u001b[0m\u001b[1;33m\u001b[0m\u001b[0m\n\u001b[0m",
      "\u001b[1;32msrc\\pyfmi\\fmi.pyx\u001b[0m in \u001b[0;36mpyfmi.fmi.FMUModelME2.simulate (src\\pyfmi\\fmi.c:84513)\u001b[1;34m()\u001b[0m\n",
      "\u001b[1;32msrc\\pyfmi\\fmi.pyx\u001b[0m in \u001b[0;36mpyfmi.fmi.ModelBase._exec_simulate_algorithm (src\\pyfmi\\fmi.c:6418)\u001b[1;34m()\u001b[0m\n",
      "\u001b[1;32msrc\\pyfmi\\fmi.pyx\u001b[0m in \u001b[0;36mpyfmi.fmi.ModelBase._exec_simulate_algorithm (src\\pyfmi\\fmi.c:6335)\u001b[1;34m()\u001b[0m\n",
      "\u001b[1;32mC:\\JModelica.org-2.10\\install\\Python_64\\pyfmi\\fmi_algorithm_drivers.pyc\u001b[0m in \u001b[0;36msolve\u001b[1;34m(self)\u001b[0m\n\u001b[0;32m    518\u001b[0m         \u001b[0mtime_start\u001b[0m \u001b[1;33m=\u001b[0m \u001b[0mtimer\u001b[0m\u001b[1;33m(\u001b[0m\u001b[1;33m)\u001b[0m\u001b[1;33m\u001b[0m\u001b[0m\n\u001b[0;32m    519\u001b[0m \u001b[1;33m\u001b[0m\u001b[0m\n\u001b[1;32m--> 520\u001b[1;33m         \u001b[0mself\u001b[0m\u001b[1;33m.\u001b[0m\u001b[0msimulator\u001b[0m\u001b[1;33m.\u001b[0m\u001b[0msimulate\u001b[0m\u001b[1;33m(\u001b[0m\u001b[0mself\u001b[0m\u001b[1;33m.\u001b[0m\u001b[0mfinal_time\u001b[0m\u001b[1;33m,\u001b[0m \u001b[0mself\u001b[0m\u001b[1;33m.\u001b[0m\u001b[0mncp\u001b[0m\u001b[1;33m)\u001b[0m\u001b[1;33m\u001b[0m\u001b[0m\n\u001b[0m\u001b[0;32m    521\u001b[0m \u001b[1;33m\u001b[0m\u001b[0m\n\u001b[0;32m    522\u001b[0m         \u001b[0mself\u001b[0m\u001b[1;33m.\u001b[0m\u001b[0mtimings\u001b[0m\u001b[1;33m[\u001b[0m\u001b[1;34m\"storing_result\"\u001b[0m\u001b[1;33m]\u001b[0m \u001b[1;33m=\u001b[0m \u001b[0mself\u001b[0m\u001b[1;33m.\u001b[0m\u001b[0mprobl\u001b[0m\u001b[1;33m.\u001b[0m\u001b[0mtimings\u001b[0m\u001b[1;33m[\u001b[0m\u001b[1;34m\"handle_result\"\u001b[0m\u001b[1;33m]\u001b[0m\u001b[1;33m\u001b[0m\u001b[0m\n",
      "\u001b[1;32massimulo\\ode.pyx\u001b[0m in \u001b[0;36massimulo.ode.ODE.simulate (assimulo\\ode.c:6667)\u001b[1;34m()\u001b[0m\n",
      "\u001b[1;32massimulo\\ode.pyx\u001b[0m in \u001b[0;36massimulo.ode.ODE.simulate (assimulo\\ode.c:6066)\u001b[1;34m()\u001b[0m\n",
      "\u001b[1;32massimulo\\explicit_ode.pyx\u001b[0m in \u001b[0;36massimulo.explicit_ode.Explicit_ODE._simulate (assimulo\\explicit_ode.c:4985)\u001b[1;34m()\u001b[0m\n",
      "\u001b[1;32massimulo\\explicit_ode.pyx\u001b[0m in \u001b[0;36massimulo.explicit_ode.Explicit_ODE._simulate (assimulo\\explicit_ode.c:3702)\u001b[1;34m()\u001b[0m\n",
      "\u001b[1;32massimulo\\solvers\\sundials.pyx\u001b[0m in \u001b[0;36massimulo.solvers.sundials.CVode.integrate (assimulo\\solvers\\sundials.c:38115)\u001b[1;34m()\u001b[0m\n",
      "\u001b[1;32massimulo\\solvers\\sundials.pyx\u001b[0m in \u001b[0;36massimulo.solvers.sundials.CVode.integrate (assimulo\\solvers\\sundials.c:37335)\u001b[1;34m()\u001b[0m\n",
      "\u001b[1;32massimulo\\explicit_ode.pyx\u001b[0m in \u001b[0;36massimulo.explicit_ode.Explicit_ODE.report_solution (assimulo\\explicit_ode.c:5954)\u001b[1;34m()\u001b[0m\n",
      "\u001b[1;32mC:\\JModelica.org-2.10\\install\\Python_64\\pyfmi\\simulation\\assimulo_interface.pyc\u001b[0m in \u001b[0;36mhandle_result\u001b[1;34m(self, solver, t, y)\u001b[0m\n\u001b[0;32m    816\u001b[0m \u001b[1;33m\u001b[0m\u001b[0m\n\u001b[0;32m    817\u001b[0m             \u001b[1;31m#Evaluating the rhs (Have to evaluate the values in the model)\u001b[0m\u001b[1;33m\u001b[0m\u001b[1;33m\u001b[0m\u001b[0m\n\u001b[1;32m--> 818\u001b[1;33m             \u001b[0mrhs\u001b[0m \u001b[1;33m=\u001b[0m \u001b[0mself\u001b[0m\u001b[1;33m.\u001b[0m\u001b[0m_model\u001b[0m\u001b[1;33m.\u001b[0m\u001b[0mget_derivatives\u001b[0m\u001b[1;33m(\u001b[0m\u001b[1;33m)\u001b[0m\u001b[1;33m\u001b[0m\u001b[0m\n\u001b[0m\u001b[0;32m    819\u001b[0m \u001b[1;33m\u001b[0m\u001b[0m\n\u001b[0;32m    820\u001b[0m         \u001b[0mself\u001b[0m\u001b[1;33m.\u001b[0m\u001b[0mexport\u001b[0m\u001b[1;33m.\u001b[0m\u001b[0mintegration_point\u001b[0m\u001b[1;33m(\u001b[0m\u001b[0msolver\u001b[0m\u001b[1;33m)\u001b[0m\u001b[1;33m\u001b[0m\u001b[0m\n",
      "\u001b[1;32msrc\\pyfmi\\fmi.pyx\u001b[0m in \u001b[0;36mpyfmi.fmi.FMUModelME2.get_derivatives (src\\pyfmi\\fmi.c:84196)\u001b[1;34m()\u001b[0m\n",
      "\u001b[1;32msrc\\pyfmi\\fmi.pyx\u001b[0m in \u001b[0;36mpyfmi.fmi.FMUModelME2.get_derivatives (src\\pyfmi\\fmi.c:84120)\u001b[1;34m()\u001b[0m\n",
      "\u001b[1;31mFMUException\u001b[0m: Failed to get the derivative values at time: 2.000021E+00."
     ]
    }
   ],
   "source": [
    "fmu2 = compile_fmu('Decay2', 'Decay2.mo')\n",
    "dc2 = load_fmu(fmu2)\n",
    "res2 = dc2.simulate(final_time=5)\n"
   ]
  },
  {
   "cell_type": "code",
   "execution_count": 15,
   "metadata": {
    "ExecuteTime": {
     "end_time": "2019-12-06T12:08:20.238000Z",
     "start_time": "2019-12-06T12:08:07.040000Z"
    }
   },
   "outputs": [
    {
     "name": "stdout",
     "output_type": "stream",
     "text": [
      "Final Run Statistics: --- \n",
      "\n",
      " Number of steps                                 : 30\n",
      " Number of function evaluations                  : 66\n",
      " Number of Jacobian evaluations                  : 8\n",
      " Number of function eval. due to Jacobian eval.  : 8\n",
      " Number of error test failures                   : 3\n",
      " Number of nonlinear iterations                  : 62\n",
      " Number of nonlinear convergence failures        : 4\n",
      "\n",
      "Solver options:\n",
      "\n",
      " Solver                   : CVode\n",
      " Linear multistep method  : BDF\n",
      " Nonlinear solver         : Newton\n",
      " Linear solver type       : DENSE\n",
      " Maximal order            : 5\n",
      " Tolerances (absolute)    : 1e-06\n",
      " Tolerances (relative)    : 0.0001\n",
      "\n",
      "Simulation interval    : 0.0 - 5.0 seconds.\n",
      "Elapsed simulation time: 0.00965329999985 seconds.\n"
     ]
    }
   ],
   "source": [
    "fmu3 = compile_fmu('Decay3', 'Decay3.mo')\n",
    "dc3 = load_fmu(fmu3)\n",
    "res3 = dc3.simulate(final_time=5)"
   ]
  },
  {
   "cell_type": "code",
   "execution_count": 17,
   "metadata": {
    "ExecuteTime": {
     "end_time": "2019-12-06T12:09:04.430000Z",
     "start_time": "2019-12-06T12:09:04.072000Z"
    }
   },
   "outputs": [
    {
     "data": {
      "image/png": "[encoded data removed]",
      "text/plain": [
       "<matplotlib.figure.Figure at 0x1db8b588>"
      ]
     },
     "metadata": {},
     "output_type": "display_data"
    }
   ],
   "source": [
    "x = res3['x']\n",
    "t = res3['time']\n",
    "\n",
    "plt.figure()\n",
    "plt.plot(t, x, label='x')\n",
    "plt.title('A Better Decay Model')\n",
    "plt.ylabel('x')\n",
    "plt.xlabel('time(s)')\n",
    "plt.show()"
   ]
  }
 ],
 "metadata": {
  "kernelspec": {
   "display_name": "Python 2",
   "language": "python",
   "name": "python2"
  },
  "language_info": {
   "codemirror_mode": {
    "name": "ipython",
    "version": 2
   },
   "file_extension": ".py",
   "mimetype": "text/x-python",
   "name": "python",
   "nbconvert_exporter": "python",
   "pygments_lexer": "ipython2",
   "version": "2.7.13"
  },
  "varInspector": {
   "cols": {
    "lenName": 16,
    "lenType": 16,
    "lenVar": 40
   },
   "kernels_config": {
    "python": {
     "delete_cmd_postfix": "",
     "delete_cmd_prefix": "del ",
     "library": "var_list.py",
     "varRefreshCmd": "print(var_dic_list())"
    },
    "r": {
     "delete_cmd_postfix": ") ",
     "delete_cmd_prefix": "rm(",
     "library": "var_list.r",
     "varRefreshCmd": "cat(var_dic_list()) "
    }
   },
   "types_to_exclude": [
    "module",
    "function",
    "builtin_function_or_method",
    "instance",
    "_Feature"
   ],
   "window_display": false
  }
 },
 "nbformat": 4,
 "nbformat_minor": 2
}
